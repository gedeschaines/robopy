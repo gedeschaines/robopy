{
 "cells": [
  {
   "cell_type": "markdown",
   "metadata": {},
   "source": [
    "**Evaluation of capturing VTK rendered image for display in notebook cell.**"
   ]
  },
  {
   "cell_type": "code",
   "execution_count": 1,
   "metadata": {},
   "outputs": [
    {
     "name": "stdout",
     "output_type": "stream",
     "text": [
      "Using RoboPy module /home/garyd/PycharmProjects/robopy/notebooks/evalVTK/../../robopy.\n"
     ]
    }
   ],
   "source": [
    "\"\"\" Matplotlib imports\n",
    "\"\"\"\n",
    "import matplotlib\n",
    "matplotlib.use('Qt4Agg')\n",
    "%matplotlib notebook\n",
    "\n",
    "\"\"\" RoboPy imports\n",
    "\"\"\"\n",
    "import _robopy\n",
    "from robopy.base.graphics import GraphicsRenderer"
   ]
  },
  {
   "cell_type": "code",
   "execution_count": 2,
   "metadata": {},
   "outputs": [
    {
     "data": {
      "image/png": "[encoded data removed]",
      "text/plain": [
       "<IPython.core.display.Image object>"
      ]
     },
     "metadata": {},
     "output_type": "display_data"
    }
   ],
   "source": [
    "# Select a Graphics Rendering package to use.\n",
    "\n",
    "gobj = GraphicsRenderer('VTK')  # this sets graphics.gRenderer\n",
    "\n",
    "# Define some GraphicsVTK parameters which will be used in draw()\n",
    "# function calls.\n",
    "\n",
    "dMode = 'IPY'\n",
    "limits = [-4.0, 4.0, -4.0, 4.0, -4.0, 4.0]\n",
    "\n",
    "# Draw a red sphere using VTK and display below.\n",
    "\n",
    "gobj.view(z_up=True, axes=True, limits=limits)\n",
    "gobj.draw_sphere()\n",
    "gobj.show(dispMode=dMode)"
   ]
  },
  {
   "cell_type": "markdown",
   "metadata": {},
   "source": [
    "**Routines to examine execution of preceding draw_sphere script from OS shell in order to examine invocation details**"
   ]
  },
  {
   "cell_type": "code",
   "execution_count": 3,
   "metadata": {},
   "outputs": [],
   "source": [
    "import os\n",
    "import sys\n",
    "import subprocess\n",
    "\n",
    "#print(sys.path)\n",
    "\n",
    "if 'BINDER_SERVICE_HOST' in os.environ:\n",
    "    usr_dir = '../../../jovyan'\n",
    "    pkg_dir = '/srv/conda/lib/python3.6/site-packages'\n",
    "    vtk_dir = pkg_dir + '/vtk'\n",
    "else:\n",
    "    usr_dir = '/home/garyd'\n",
    "    pkg_dir = '/usr/local/lib/python3.5/dist-packages'\n",
    "    vtk_dir = pkg_dir + '/vtk'"
   ]
  },
  {
   "cell_type": "code",
   "execution_count": 4,
   "metadata": {},
   "outputs": [],
   "source": [
    "def get_env(var):\n",
    "    if var in os.environ:\n",
    "        return os.environ[var]\n",
    "    else:\n",
    "        return None\n",
    "\n",
    "def set_env(var, new_val):\n",
    "    if var in os.environ:\n",
    "        old_val = os.environ[var]\n",
    "        if old_val is not None:\n",
    "            if type(new_val) is type(old_val):\n",
    "                os.environ[var] = new_val\n",
    "            else:\n",
    "                print('Wrong value type: old = %s, new = %s' % \\\n",
    "                          (type(old_val), type(new_val)))\n",
    "        else:\n",
    "            os.environ[var] = new_val\n",
    "\n",
    "def exec_long_running_proc(command, args):\n",
    "    \"\"\"\n",
    "    USE: exec_long_running_proc(command = 'ls', args=['-alF'])\n",
    "    REF: https://stackoverflow.com/questions/89228/calling-an-external-command-in-python\n",
    "    \"\"\"\n",
    "    cmd = \"{} {}\".format(command, \" \".join(str(arg) if ' ' not in arg else arg.replace(' ','\\ ') for arg in args))\n",
    "\n",
    "    print(cmd)\n",
    "\n",
    "    process = subprocess.Popen([command]+args, shell=False, stdout=subprocess.PIPE, stderr=subprocess.STDOUT)\n",
    "\n",
    "    # Poll process for new output until finished\n",
    "    while True:\n",
    "        nextline = process.stdout.readline().decode('UTF-8')\n",
    "        if nextline == '' and process.poll() is not None:\n",
    "            break\n",
    "        sys.stdout.write(nextline)\n",
    "        sys.stdout.flush()\n",
    "\n",
    "    output = process.communicate()[0]\n",
    "    exitCode = process.returncode\n",
    "\n",
    "    if (exitCode == 0):\n",
    "        return output\n",
    "    else:\n",
    "        raise Exception(command, exitCode, output)\n",
    "\n",
    "ls_cmd   = 'ls'\n",
    "ls_args  = ['-alF', vtk_dir]\n",
    "ldd_cmd  = 'ldd'\n",
    "ldd_args = [vtk_dir + '/vtkRenderingCorePython.so']"
   ]
  },
  {
   "cell_type": "code",
   "execution_count": 5,
   "metadata": {},
   "outputs": [
    {
     "name": "stdout",
     "output_type": "stream",
     "text": [
      "python -u draw_sphere.py\n",
      "Using RoboPy module /home/garyd/PycharmProjects/robopy/notebooks/evalVTK/../../robopy.\n",
      "<IPython.core.display.Image object>\n"
     ]
    },
    {
     "data": {
      "text/plain": [
       "b''"
      ]
     },
     "execution_count": 5,
     "metadata": {},
     "output_type": "execute_result"
    }
   ],
   "source": [
    "exe_cmd  = 'python'\n",
    "exe_args = ['-u', 'draw_sphere.py']\n",
    "exec_long_running_proc(exe_cmd, exe_args)"
   ]
  },
  {
   "cell_type": "code",
   "execution_count": null,
   "metadata": {},
   "outputs": [],
   "source": []
  }
 ],
 "metadata": {
  "kernelspec": {
   "display_name": "Python 3",
   "language": "python",
   "name": "python3"
  },
  "language_info": {
   "codemirror_mode": {
    "name": "ipython",
    "version": 3
   },
   "file_extension": ".py",
   "mimetype": "text/x-python",
   "name": "python",
   "nbconvert_exporter": "python",
   "pygments_lexer": "ipython3",
   "version": "3.5.2"
  }
 },
 "nbformat": 4,
 "nbformat_minor": 2
}
