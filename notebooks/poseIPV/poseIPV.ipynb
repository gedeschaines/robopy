{
 "cells": [
  {
   "cell_type": "markdown",
   "metadata": {},
   "source": [
    "**Demonstration of RoboPy Pose.plot() and SerialLink.plot() rendering capability using IPV (ipyvolume).**"
   ]
  },
  {
   "cell_type": "code",
   "execution_count": 1,
   "metadata": {},
   "outputs": [
    {
     "name": "stdout",
     "output_type": "stream",
     "text": [
      "Using RoboPy module /home/garyd/PycharmProjects/robopy/work/notebooks/poseIPV/../../../robopy.\n"
     ]
    }
   ],
   "source": [
    "import os  # for checking values of environment variables.\n",
    "\n",
    "\"\"\" Matplotlib imports\n",
    "\"\"\"\n",
    "import matplotlib\n",
    "matplotlib.use('Qt5Agg')  # comment this line if running Jupyter on MyBinder\n",
    "%matplotlib notebook\n",
    "\n",
    "\"\"\" Numerical imports\n",
    "\"\"\"\n",
    "import numpy as np\n",
    "\n",
    "\"\"\" RoboPy imports\n",
    "\"\"\"\n",
    "import _robopy\n",
    "from robopy.base.graphics import GraphicsRenderer, trplot\n",
    "import robopy.base.transforms as tr\n",
    "import robopy.base.pose as pose\n",
    "import robopy.base.model as model"
   ]
  },
  {
   "cell_type": "code",
   "execution_count": 2,
   "metadata": {},
   "outputs": [
    {
     "data": {
      "application/vnd.jupyter.widget-view+json": {
       "model_id": "01fb66d0536142d4a2d40ec796356a72",
       "version_major": 2,
       "version_minor": 0
      },
      "text/plain": [
       "VBox(children=(Figure(camera=PerspectiveCamera(fov=46.0, position=(-0.0, -1.7320508075688774, -0.9999999999999…"
      ]
     },
     "metadata": {},
     "output_type": "display_data"
    }
   ],
   "source": [
    "# Select a Graphics Rendering package to use.\n",
    "gobj = GraphicsRenderer('IPV')  # this sets graphics.gRenderer\n",
    "\n",
    "# Display a blue open-ended box to show default figure properties.\n",
    "gobj.draw_cube()\n",
    "gobj.show()"
   ]
  },
  {
   "cell_type": "code",
   "execution_count": 3,
   "metadata": {},
   "outputs": [],
   "source": [
    "# Define some GraphicsIPV parameters which will be used in plot()\n",
    "# method calls in following cells.\n",
    "\n",
    "dMode = 'IPY'\n",
    "limits = [-1.5, 1.5, -1.5, 1.5, -1.5, 1.5]"
   ]
  },
  {
   "cell_type": "code",
   "execution_count": 4,
   "metadata": {
    "scrolled": true
   },
   "outputs": [
    {
     "data": {
      "application/vnd.jupyter.widget-view+json": {
       "model_id": "24979186189f490ba7b5f1a6053b06db",
       "version_major": 2,
       "version_minor": 0
      },
      "text/plain": [
       "VBox(children=(Figure(camera=PerspectiveCamera(fov=46.0, position=(-0.0, -1.7320508075688774, -0.9999999999999…"
      ]
     },
     "metadata": {},
     "output_type": "display_data"
    }
   ],
   "source": [
    "# Plot SE3 pose using IPV (ipyvolume) and display below.\n",
    "pose.SE3.Rx(theta=[45, 90], unit='deg').plot(dispMode=dMode, key=1, z_up=True, limits=limits)"
   ]
  },
  {
   "cell_type": "code",
   "execution_count": 5,
   "metadata": {},
   "outputs": [
    {
     "data": {
      "application/vnd.jupyter.widget-view+json": {
       "model_id": "2c2904c339c74869ba9fa1b44af66add",
       "version_major": 2,
       "version_minor": 0
      },
      "text/plain": [
       "VBox(children=(Figure(camera=PerspectiveCamera(fov=46.0, position=(-0.0, -1.7320508075688774, -0.9999999999999…"
      ]
     },
     "metadata": {},
     "output_type": "display_data"
    }
   ],
   "source": [
    "# Plot same SE3 transforms as previous cell, but use the trplot() function.\n",
    "\n",
    "T = tr.rotx([45, 90], unit='deg')\n",
    "trplot(T, key=2)"
   ]
  },
  {
   "cell_type": "code",
   "execution_count": 6,
   "metadata": {},
   "outputs": [
    {
     "data": {
      "application/vnd.jupyter.widget-view+json": {
       "model_id": "83d8ff03f37f47fab509803e1cf74cf8",
       "version_major": 2,
       "version_minor": 0
      },
      "text/plain": [
       "VBox(children=(Figure(camera=PerspectiveCamera(fov=46.0, position=(-0.0, -1.7320508075688774, -0.9999999999999…"
      ]
     },
     "metadata": {},
     "output_type": "display_data"
    }
   ],
   "source": [
    "# Define a Puma560 robot model.\n",
    "robot = model.Puma560()\n",
    "    \n",
    "# Puma560 manipulator arm pose plot using MPL and displayed below.\n",
    "robot.plot(robot.qn, dispMode=dMode, key=3, z_up=False, limits=None)"
   ]
  },
  {
   "cell_type": "code",
   "execution_count": 7,
   "metadata": {},
   "outputs": [
    {
     "data": {
      "application/vnd.jupyter.widget-view+json": {
       "model_id": "27b61d17ca624d80a6e8c910338d181e",
       "version_major": 2,
       "version_minor": 0
      },
      "text/plain": [
       "VBox(children=(Figure(animation=33.0, camera=PerspectiveCamera(fov=46.0, position=(-0.0, -1.7320508075688774, …"
      ]
     },
     "metadata": {},
     "output_type": "display_data"
    }
   ],
   "source": [
    "# Puma560 animation\n",
    "\n",
    "a = np.transpose(np.asmatrix(np.linspace(1, -180, 500)))\n",
    "b = np.transpose(np.asmatrix(np.linspace(1, 180, 500)))\n",
    "c = np.transpose(np.asmatrix(np.linspace(1, 90, 500)))\n",
    "d = np.transpose(np.asmatrix(np.linspace(1, 450, 500)))\n",
    "e = np.asmatrix(np.zeros((500, 1)))\n",
    "f = np.concatenate((d, b, a, e, c, d), axis=1)\n",
    "\n",
    "# Give graphics renderer pose DisplayList to animate for all 500 poses.\n",
    "#\n",
    "# Note: There may be a considerable delay while all figures are generated \n",
    "#       before being passed to animation_control (noticeable here).\n",
    "\n",
    "gIpv = GraphicsRenderer('IPV')  # sets graphics.gRenderer (to clear previous figure)\n",
    "gobj = robot.animate(stances=f, unit='deg', key=4, timer_rate=60, gif=\"Puma560\", \n",
    "                         frame_rate=30, dispMode='IPY', limits=None)"
   ]
  },
  {
   "cell_type": "code",
   "execution_count": null,
   "metadata": {},
   "outputs": [],
   "source": []
  }
 ],
 "metadata": {
  "kernelspec": {
   "display_name": "Python 3",
   "language": "python",
   "name": "python3"
  },
  "language_info": {
   "codemirror_mode": {
    "name": "ipython",
    "version": 3
   },
   "file_extension": ".py",
   "mimetype": "text/x-python",
   "name": "python",
   "nbconvert_exporter": "python",
   "pygments_lexer": "ipython3",
   "version": "3.5.2"
  }
 },
 "nbformat": 4,
 "nbformat_minor": 2
}
