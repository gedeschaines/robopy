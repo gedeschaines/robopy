{
 "cells": [
  {
   "cell_type": "markdown",
   "metadata": {},
   "source": [
    "**Demonstration of RoboPy Pose.plot() and SerialLink.plot() rendering capability using IPV (ipyvolume).**"
   ]
  },
  {
   "cell_type": "code",
   "execution_count": 1,
   "metadata": {},
   "outputs": [
    {
     "name": "stdout",
     "output_type": "stream",
     "text": [
      "Using RoboPy module /home/garyd/PycharmProjects/robopy/work/notebooks/poseIPV/../../../robopy.\n"
     ]
    }
   ],
   "source": [
    "import os  # for checking values of environment variables.\n",
    "\n",
    "\"\"\" Matplotlib imports\n",
    "\"\"\"\n",
    "import matplotlib\n",
    "matplotlib.use('Qt4Agg')\n",
    "%matplotlib notebook\n",
    "\n",
    "\"\"\" RoboPy imports\n",
    "\"\"\"\n",
    "import _robopy\n",
    "from robopy.base.graphics import GraphicsRenderer\n",
    "import robopy.base.pose as pose\n",
    "import robopy.base.model as model"
   ]
  },
  {
   "cell_type": "code",
   "execution_count": 2,
   "metadata": {},
   "outputs": [],
   "source": [
    "# Select a Graphics Rendering package to use.\n",
    "\n",
    "gobj = GraphicsRenderer('IPV')  # this sets graphics.gRenderer"
   ]
  },
  {
   "cell_type": "code",
   "execution_count": 3,
   "metadata": {},
   "outputs": [],
   "source": [
    "# Define some GraphicsVTK parameters whcich will be used in plot()\n",
    "# method calls in following cells.\n",
    "\n",
    "dMode = 'IPY'\n",
    "limits = [-4.0, 4.0, -4.0, 4.0, -4.0, 4.0]"
   ]
  },
  {
   "cell_type": "code",
   "execution_count": 4,
   "metadata": {},
   "outputs": [
    {
     "name": "stdout",
     "output_type": "stream",
     "text": [
      "* Not yet implemented.\n"
     ]
    }
   ],
   "source": [
    "# Plot SE3 pose using MPL and display below.\n",
    "\n",
    "pose.SE3.Rx(theta=[45, 90], unit='deg').plot(dispMode=dMode, z_up=True, limits=limits)"
   ]
  },
  {
   "cell_type": "code",
   "execution_count": 5,
   "metadata": {},
   "outputs": [
    {
     "name": "stdout",
     "output_type": "stream",
     "text": [
      "* Not yet implemented.\n"
     ]
    }
   ],
   "source": [
    "# Plot SE3 pose using VTK and display in PIL (Imagemagick) window\n",
    "\n",
    "if 'BINDER_SERVICE_HOST' not in os.environ:\n",
    "    # display this if not on MyBinder\n",
    "    pose.SE3.Rx(theta=[45, 90], unit='deg').plot(dispMode='PIL', z_up=True, limits=limits)"
   ]
  },
  {
   "cell_type": "code",
   "execution_count": 6,
   "metadata": {},
   "outputs": [
    {
     "data": {
      "application/vnd.jupyter.widget-view+json": {
       "model_id": "e1aee0472a6144329aa451778a190abc",
       "version_major": 2,
       "version_minor": 0
      },
      "text/plain": [
       "VBox(children=(Figure(camera=PerspectiveCamera(fov=46.0, position=(-0.0, -1.7320508075688774, -0.9999999999999…"
      ]
     },
     "metadata": {},
     "output_type": "display_data"
    }
   ],
   "source": [
    "# Define a Puma506 robot model.\n",
    "robot = model.Puma560()\n",
    "    \n",
    "# Puma560 manipulator arm pose plot using MPL and displayed below.\n",
    "robot.plot(robot.qn, dispMode=dMode, z_up=False, limits=None)"
   ]
  },
  {
   "cell_type": "code",
   "execution_count": 7,
   "metadata": {},
   "outputs": [
    {
     "data": {
      "application/vnd.jupyter.widget-view+json": {
       "model_id": "43a06b637e7f4f4796b452b7f8dc3ab3",
       "version_major": 2,
       "version_minor": 0
      },
      "text/plain": [
       "VBox(children=(Figure(camera=PerspectiveCamera(fov=46.0, position=(-0.0, -1.7320508075688774, -0.9999999999999…"
      ]
     },
     "metadata": {},
     "output_type": "display_data"
    }
   ],
   "source": [
    "# Puma560 manipulator arm pose plot using MPL and displayed in PIL (Imagemagick) window\n",
    "\n",
    "if 'BINDER_SERVICE_HOST' not in os.environ:\n",
    "    # display this if not on MyBinder\n",
    "    robot.plot(robot.qn, dispMode='PIL', z_up=False, limits=None)"
   ]
  },
  {
   "cell_type": "code",
   "execution_count": 8,
   "metadata": {},
   "outputs": [
    {
     "data": {
      "application/vnd.jupyter.widget-view+json": {
       "model_id": "a8d6faf6098d4c3b8166fff22a44b6b2",
       "version_major": 2,
       "version_minor": 0
      },
      "text/plain": [
       "VBox(children=(Figure(animation=33.0, camera=PerspectiveCamera(fov=46.0, position=(-0.0, -1.7320508075688774, …"
      ]
     },
     "metadata": {},
     "output_type": "display_data"
    }
   ],
   "source": [
    "# Puma560 animation\n",
    "\n",
    "import numpy as np\n",
    "\n",
    "a = np.transpose(np.asmatrix(np.linspace(1, -180, 500)))\n",
    "b = np.transpose(np.asmatrix(np.linspace(1, 180, 500)))\n",
    "c = np.transpose(np.asmatrix(np.linspace(1, 90, 500)))\n",
    "d = np.transpose(np.asmatrix(np.linspace(1, 450, 500)))\n",
    "e = np.asmatrix(np.zeros((500, 1)))\n",
    "f = np.concatenate((d, b, a, e, c, d), axis=1)\n",
    "\n",
    "# Give graphics renderer pose DisplayList to animate for all 500 poses.\n",
    "#\n",
    "# Note: There may be a considerable delay while all figures are generated \n",
    "#       before being passed to animation_control (noticeable here).\n",
    "\n",
    "gIpv = GraphicsRenderer('IPV')  # sets graphics.gRenderer (to clear previous figure)\n",
    "robot.animate(stances=f, unit='deg', timer_rate=60, gif=\"Puma560\", \n",
    "                         frame_rate=30, dispMode='IPY', limits=None)"
   ]
  },
  {
   "cell_type": "code",
   "execution_count": null,
   "metadata": {},
   "outputs": [],
   "source": []
  }
 ],
 "metadata": {
  "kernelspec": {
   "display_name": "Python 3",
   "language": "python",
   "name": "python3"
  },
  "language_info": {
   "codemirror_mode": {
    "name": "ipython",
    "version": 3
   },
   "file_extension": ".py",
   "mimetype": "text/x-python",
   "name": "python",
   "nbconvert_exporter": "python",
   "pygments_lexer": "ipython3",
   "version": "3.5.2"
  }
 },
 "nbformat": 4,
 "nbformat_minor": 2
}
