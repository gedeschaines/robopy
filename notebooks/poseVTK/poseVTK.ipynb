{
 "cells": [
  {
   "cell_type": "markdown",
   "metadata": {},
   "source": [
    "**Demonstration of RoboPy Pose.plot() and SerialLink.plot() rendering capability using VTK.**"
   ]
  },
  {
   "cell_type": "code",
   "execution_count": 1,
   "metadata": {},
   "outputs": [
    {
     "name": "stdout",
     "output_type": "stream",
     "text": [
      "Using RoboPy module /home/garyd/PycharmProjects/robopy/work/notebooks/poseVTK/../../../build/lib/robopy.\n"
     ]
    }
   ],
   "source": [
    "import os  # for checking values of environment variables.\n",
    "\n",
    "\"\"\" Matplotlib imports\n",
    "\"\"\"\n",
    "import matplotlib\n",
    "matplotlib.use('Qt4Agg')\n",
    "%matplotlib notebook\n",
    "\n",
    "\"\"\" RoboPy imports\n",
    "\"\"\"\n",
    "import _robopy\n",
    "from robopy.base.graphics import GraphicsRenderer\n",
    "import robopy.base.pose as pose\n",
    "import robopy.base.model as model"
   ]
  },
  {
   "cell_type": "code",
   "execution_count": 2,
   "metadata": {},
   "outputs": [],
   "source": [
    "# Select a Graphics Rendering package to use.\n",
    "\n",
    "gobj = GraphicsRenderer('VTK')  # this sets graphics.gRenderer"
   ]
  },
  {
   "cell_type": "code",
   "execution_count": 3,
   "metadata": {},
   "outputs": [],
   "source": [
    "# Define some GraphicsVTK parameters whcich will be used in plot()\n",
    "# method calls in following cells.\n",
    "\n",
    "dMode = 'IPY'\n",
    "limits = [-4.0, 4.0, -4.0, 4.0, -4.0, 4.0]"
   ]
  },
  {
   "cell_type": "code",
   "execution_count": 4,
   "metadata": {},
   "outputs": [
    {
     "data": {
      "image/png": "[encoded data removed]",
      "text/plain": [
       "<IPython.core.display.Image object>"
      ]
     },
     "metadata": {},
     "output_type": "display_data"
    }
   ],
   "source": [
    "# Plot SE3 pose using VTK and display below.\n",
    "\n",
    "pose.SE3.Rx(theta=[45, 90], unit='deg').plot(dispMode=dMode, z_up=True, limits=limits)"
   ]
  },
  {
   "cell_type": "code",
   "execution_count": 5,
   "metadata": {},
   "outputs": [],
   "source": [
    "# Plot SE3 pose using VTK and display in PIL (Imagemagick) window\n",
    "\n",
    "if 'BINDER_SERVICE_HOST' not in os.environ:\n",
    "    # display this if not on MyBinder\n",
    "    pose.SE3.Rx(theta=[45, 90], unit='deg').plot(dispMode='PIL', z_up=True, limits=limits)"
   ]
  },
  {
   "cell_type": "code",
   "execution_count": 6,
   "metadata": {},
   "outputs": [
    {
     "data": {
      "image/png": "[encoded data removed]",
      "text/plain": [
       "<IPython.core.display.Image object>"
      ]
     },
     "metadata": {},
     "output_type": "display_data"
    }
   ],
   "source": [
    "# Define a Puma506 robot model.\n",
    "robot = model.Puma560()\n",
    "    \n",
    "# Puma560 manipulator arm pose plot using VTK and displayed below.\n",
    "robot.plot(robot.qn, dispMode=dMode, z_up=False, limits=None)"
   ]
  },
  {
   "cell_type": "code",
   "execution_count": 7,
   "metadata": {},
   "outputs": [],
   "source": [
    "# Puma560 manipulator arm pose plot using VTK and displayed in PIL (Imagemagick) window\n",
    "\n",
    "if 'BINDER_SERVICE_HOST' not in os.environ:\n",
    "    # display this if not on MyBinder\n",
    "    robot.plot(robot.qn, dispMode='PIL', z_up=False, limits=None)"
   ]
  },
  {
   "cell_type": "code",
   "execution_count": null,
   "metadata": {},
   "outputs": [],
   "source": []
  }
 ],
 "metadata": {
  "kernelspec": {
   "display_name": "Python 3",
   "language": "python",
   "name": "python3"
  },
  "language_info": {
   "codemirror_mode": {
    "name": "ipython",
    "version": 3
   },
   "file_extension": ".py",
   "mimetype": "text/x-python",
   "name": "python",
   "nbconvert_exporter": "python",
   "pygments_lexer": "ipython3",
   "version": "3.5.2"
  }
 },
 "nbformat": 4,
 "nbformat_minor": 2
}
