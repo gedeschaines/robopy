{
 "cells": [
  {
   "cell_type": "markdown",
   "metadata": {},
   "source": [
    "**Demonstration of RoboPy plot(DisplayList) rendering capability using IPV (ipyvolume).**"
   ]
  },
  {
   "cell_type": "code",
   "execution_count": 1,
   "metadata": {},
   "outputs": [
    {
     "name": "stdout",
     "output_type": "stream",
     "text": [
      "Using RoboPy module /home/garyd/PycharmProjects/robopy/work/notebooks/dListIPV/../../../robopy.\n"
     ]
    }
   ],
   "source": [
    "import os  # for checking values of environment variables.\n",
    "\n",
    "\"\"\" Matplotlib imports\n",
    "\"\"\"\n",
    "import matplotlib\n",
    "matplotlib.use('Qt4Agg')\n",
    "%matplotlib notebook\n",
    "\n",
    "\"\"\" RoboPy imports\n",
    "\"\"\"\n",
    "# Import requisite robopy modules.\n",
    "import _robopy                             # locates desired robopy module\n",
    "import robopy.base.graphics as graphics    # to perform graphics\n",
    "import robopy.base.graphics_mpl as gipv    # for rgb_named_colors\n",
    "import robopy.base.display_list as dList   # to use display lists\n",
    "import robopy.base.transforms as tr        # to apply transforms\n",
    "from robopy.base.mesh_geoms import *       # to use mesh geometric shapes\n",
    "import numpy as np                         # to use NumPy ndarray type"
   ]
  },
  {
   "cell_type": "code",
   "execution_count": 2,
   "metadata": {},
   "outputs": [],
   "source": [
    "# Define some GraphicsIPV parameters which will be used in the\n",
    "# Ipv3dVisual.plot() method calls in following cells.\n",
    "\n",
    "dMode = 'IPY'\n",
    "limits = [-0.5, 0.5, -0.5, 0.5, -0.5, 0.5]"
   ]
  },
  {
   "cell_type": "code",
   "execution_count": 3,
   "metadata": {},
   "outputs": [],
   "source": [
    "# Define a mesh grid geometric object.\n",
    "\n",
    "cyl = cylinder(0.2,0.2,0.05,0.1)  # create a cylinder"
   ]
  },
  {
   "cell_type": "code",
   "execution_count": 4,
   "metadata": {},
   "outputs": [],
   "source": [
    "# Create two transformation matrices.\n",
    "\n",
    "Rx = np.array( [[1,0,0,0], [0,0,-1,0], [0,1,0,0],[0,0,0,1]])\n",
    "Ry = np.array( [[0,0,1,0],[0,1,0,0],[-1,0,0,0],[0,0,0,1]] )"
   ]
  },
  {
   "cell_type": "code",
   "execution_count": 5,
   "metadata": {},
   "outputs": [],
   "source": [
    "# Create a DisplayList with 3 instances of the cylinder,\n",
    "# keep the DisplayListItem references.\n",
    "\n",
    "dl = dList.DisplayList()\n",
    "dl1 = dl.add('surface', 'cyl1', cyl, color='blue')\n",
    "dl2 = dl.add('surface', 'cyl2', cyl, color='red')\n",
    "dl3 = dl.add('surface', 'cyl3', cyl, color='green')"
   ]
  },
  {
   "cell_type": "code",
   "execution_count": 6,
   "metadata": {},
   "outputs": [],
   "source": [
    "# Transform two of the cylinders by setting the transform field.\n",
    "\n",
    "dl2.transform = Rx\n",
    "dl3.transform = Ry"
   ]
  },
  {
   "cell_type": "code",
   "execution_count": 7,
   "metadata": {},
   "outputs": [],
   "source": [
    "# Obtain a robopy graphics renderer which utilizes ipyvolume.\n",
    "\n",
    "gIpv = graphics.GraphicsRenderer('IPV')  # sets graphics.gRenderer; returns Ipv3dVisual object"
   ]
  },
  {
   "cell_type": "code",
   "execution_count": 8,
   "metadata": {},
   "outputs": [
    {
     "data": {
      "application/vnd.jupyter.widget-view+json": {
       "model_id": "fa621ea72c764dd6b2b720eb5a2585d4",
       "version_major": 2,
       "version_minor": 0
      },
      "text/plain": [
       "VBox(children=(Figure(camera=PerspectiveCamera(fov=46.0, position=(0.0, -1.7320508075688774, -0.99999999999999…"
      ]
     },
     "metadata": {},
     "output_type": "display_data"
    }
   ],
   "source": [
    "# Display a mesh grid geometric object to show the default figure properties.\n",
    "\n",
    "rgb = graphics.rgb_named_colors(['purple'])\n",
    "gIpv.plot_parametric_shape('sphere', solid=True, c=rgb[0])\n",
    "gIpv.show()\n",
    "\n",
    "# The purple sphere should be displayed in a figure below."
   ]
  },
  {
   "cell_type": "code",
   "execution_count": 9,
   "metadata": {},
   "outputs": [
    {
     "data": {
      "application/vnd.jupyter.widget-view+json": {
       "model_id": "50174351532e4c98aa11997ce83d7484",
       "version_major": 2,
       "version_minor": 0
      },
      "text/plain": [
       "VBox(children=(Figure(camera=PerspectiveCamera(fov=46.0, position=(-0.0, -1.7320508075688774, -0.9999999999999…"
      ]
     },
     "metadata": {},
     "output_type": "display_data"
    }
   ],
   "source": [
    "# Give a graphics renderer the DisplayList to plot (uses gRenderer.plot()).\n",
    "\n",
    "gIpv.clear()                             # clears previous figure\n",
    "graphics.plot(dl, key=1, limits=limits)  # create plot on new figure (key=1)"
   ]
  },
  {
   "cell_type": "code",
   "execution_count": 10,
   "metadata": {},
   "outputs": [],
   "source": [
    "# Define transform function to animate DisplayListItems \n",
    "#\n",
    "# Note: Utilizes new animation_timer() class decorator defined \n",
    "#       in the graphics module.\n",
    "\n",
    "timer_rate = 60\n",
    "frame_rate = 30\n",
    "@graphics.animation_timer(timer_rate, frame_rate, real_time=False)\n",
    "def transFunc(n, tstep, *args, **kwargs):\n",
    "    \"\"\"\n",
    "    Sample transformation function to rotate display list\n",
    "    'surface' items about their x-axis.\n",
    "    :param n : number of steps (starts at 0)\n",
    "    :param tstep: step time (sec)\n",
    "    :return: a homogeneous transform matrix\n",
    "    \"\"\"\n",
    "    t = n*tstep\n",
    "    return tr.trotx(2.0*t, unit=\"deg\")"
   ]
  },
  {
   "cell_type": "code",
   "execution_count": 11,
   "metadata": {},
   "outputs": [
    {
     "data": {
      "application/vnd.jupyter.widget-view+json": {
       "model_id": "536802995a85404b8563ec974dd3d848",
       "version_major": 2,
       "version_minor": 0
      },
      "text/plain": [
       "VBox(children=(Figure(animation=33.0, camera=PerspectiveCamera(fov=46.0, position=(-0.0, -1.7320508075688774, …"
      ]
     },
     "metadata": {},
     "output_type": "display_data"
    }
   ],
   "source": [
    "# Give a graphics renderer the DisplayList to animate for all time steps (anim_incr=False).\n",
    "#\n",
    "# Note: There may be a considerable delay while all figures are generated \n",
    "#       before being passed to animation_control (noticeable in poseIPV).\n",
    "\n",
    "gIpv.clear()                             # clears previous figure\n",
    "fps = frame_rate                         # display frame rate\n",
    "tstep = 1.0/float(fps)                   # time step size for transform function\n",
    "graphics.animate(dl, transFunc, key=2,   # create plot on new figure (key=2)\n",
    "                 func_args=[tstep], anim_incr=False, duration=5.0, frame_rate=fps,\n",
    "                 limits=limits)"
   ]
  },
  {
   "cell_type": "code",
   "execution_count": 12,
   "metadata": {},
   "outputs": [
    {
     "data": {
      "application/vnd.jupyter.widget-view+json": {
       "model_id": "4c3937a5ed3c44bc88f1cb904fe6d0b7",
       "version_major": 2,
       "version_minor": 0
      },
      "text/plain": [
       "VBox(children=(VBox(children=(Figure(animation=33.0, camera=PerspectiveCamera(fov=46.0, position=(-0.0, -1.732…"
      ]
     },
     "metadata": {},
     "output_type": "display_data"
    },
    {
     "data": {
      "application/vnd.jupyter.widget-view+json": {
       "model_id": "4792a22117ae4a4d9575c44d8ce5c88b",
       "version_major": 2,
       "version_minor": 0
      },
      "text/plain": [
       "Output()"
      ]
     },
     "metadata": {},
     "output_type": "display_data"
    }
   ],
   "source": [
    "# Give graphics renderer the DisplayList to animate at each time step (anim_incr=True).\n",
    "#\n",
    "# Note: There is no delay as each figure is generated and passed to\n",
    "#       animation control. However, issues with retention of previous \n",
    "#       images is still being worked out.\n",
    "\n",
    "gIpv.clear()                             # clears previous figure\n",
    "fps = frame_rate                         # display frame rate\n",
    "tstep = 1.0/float(fps)                   # time step size for transform function\n",
    "graphics.animate(dl, transFunc, key=3,   # create plot on new figure (key=3)\n",
    "                 func_args=[tstep], anim_incr=True, duration=5.0, frame_rate=fps, \n",
    "                 limits=limits)"
   ]
  },
  {
   "cell_type": "code",
   "execution_count": null,
   "metadata": {},
   "outputs": [],
   "source": []
  }
 ],
 "metadata": {
  "kernelspec": {
   "display_name": "Python 3",
   "language": "python",
   "name": "python3"
  },
  "language_info": {
   "codemirror_mode": {
    "name": "ipython",
    "version": 3
   },
   "file_extension": ".py",
   "mimetype": "text/x-python",
   "name": "python",
   "nbconvert_exporter": "python",
   "pygments_lexer": "ipython3",
   "version": "3.5.2"
  }
 },
 "nbformat": 4,
 "nbformat_minor": 2
}
