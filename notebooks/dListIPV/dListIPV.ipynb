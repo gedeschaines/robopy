{
 "cells": [
  {
   "cell_type": "markdown",
   "metadata": {},
   "source": [
    "**Demonstration of RoboPy plot(DisplayList) rendering capability using IPV (ipyvolume).**"
   ]
  },
  {
   "cell_type": "code",
   "execution_count": 1,
   "metadata": {},
   "outputs": [
    {
     "name": "stdout",
     "output_type": "stream",
     "text": [
      "Using RoboPy module /home/garyd/PycharmProjects/robopy/work/notebooks/dListIPV/../../../robopy.\n"
     ]
    }
   ],
   "source": [
    "import os  # for checking values of environment variables.\n",
    "\n",
    "\"\"\" Matplotlib imports\n",
    "\"\"\"\n",
    "import matplotlib\n",
    "matplotlib.use('Qt4Agg')\n",
    "%matplotlib notebook\n",
    "\n",
    "\"\"\" RoboPy imports\n",
    "\"\"\"\n",
    "# Import requisite robopy modules.\n",
    "import _robopy                             # locates desired robopy module\n",
    "import robopy.base.graphics as graphics    # to perform graphics\n",
    "import robopy.base.display_list as dList   # to use display lists\n",
    "import robopy.base.transforms as tr        # to apply transforms\n",
    "from robopy.base.mesh_geoms import *       # to use mesh geometric shapes\n",
    "import numpy as np                         # to use NumPy ndarray type"
   ]
  },
  {
   "cell_type": "code",
   "execution_count": 2,
   "metadata": {},
   "outputs": [],
   "source": [
    "# Define some GraphicsIPV parameters which will be used in plot()\n",
    "# method calls in following cells.\n",
    "\n",
    "dMode = 'IPY'\n",
    "limits = [-0.5, 0.5, -0.5, 0.5, -0.5, 0.5]"
   ]
  },
  {
   "cell_type": "code",
   "execution_count": 3,
   "metadata": {},
   "outputs": [],
   "source": [
    "# Define an object.\n",
    "cyl = cylinder(0.2,0.2,0.05,0.1)  # create a cylinder"
   ]
  },
  {
   "cell_type": "code",
   "execution_count": 4,
   "metadata": {},
   "outputs": [],
   "source": [
    "# Create two transformation matrices.\n",
    "Rx = np.array( [[1,0,0,0], [0,0,-1,0], [0,1,0,0],[0,0,0,1]])\n",
    "Ry = np.array( [[0,0,1,0],[0,1,0,0],[-1,0,0,0],[0,0,0,1]] )"
   ]
  },
  {
   "cell_type": "code",
   "execution_count": 5,
   "metadata": {},
   "outputs": [],
   "source": [
    "# Create a DisplayList with 3 instances of the cylinder,\n",
    "# keep the DisplayListItem references\n",
    "dl = dList.DisplayList()\n",
    "dl1 = dl.add('surface', 'cyl1', cyl, color='blue')\n",
    "dl2 = dl.add('surface', 'cyl2', cyl, color='red')\n",
    "dl3 = dl.add('surface', 'cyl3', cyl, color='green')"
   ]
  },
  {
   "cell_type": "code",
   "execution_count": 6,
   "metadata": {},
   "outputs": [],
   "source": [
    "# Transform two of the cylinders by setting the transform field\n",
    "dl2.transform = Rx\n",
    "dl3.transform = Ry"
   ]
  },
  {
   "cell_type": "code",
   "execution_count": 7,
   "metadata": {},
   "outputs": [],
   "source": [
    "# Obtain a robopy graphics renderer with utilizes ipyvolume.\n",
    "gIpv = graphics.GraphicsRenderer('IPV')  # sets graphics.gRenderer"
   ]
  },
  {
   "cell_type": "code",
   "execution_count": 8,
   "metadata": {},
   "outputs": [
    {
     "data": {
      "application/vnd.jupyter.widget-view+json": {
       "model_id": "f4717b60d5b148dfaad3146d5505975a",
       "version_major": 2,
       "version_minor": 0
      },
      "text/plain": [
       "VBox(children=(Figure(camera=PerspectiveCamera(fov=46.0, position=(-0.0, -1.7320508075688774, -0.9999999999999…"
      ]
     },
     "metadata": {},
     "output_type": "display_data"
    }
   ],
   "source": [
    "# Give graphics renderer the DisplayList to plot (gRenderer.plot()).\n",
    "graphics.plot(dl, limits=limits)"
   ]
  },
  {
   "cell_type": "code",
   "execution_count": 9,
   "metadata": {},
   "outputs": [],
   "source": [
    "# Define transform function to animate DisplayListItems.\n",
    "def transFunc(t):\n",
    "    \"\"\"\n",
    "    Sample transformation function to rotate display list\n",
    "    'surface' items about their x-axis.\n",
    "    :param t: time (sec)\n",
    "    :return: a homogeneous transform matrix\n",
    "    \"\"\"\n",
    "    return tr.trotx(2.0*t, unit=\"deg\")"
   ]
  },
  {
   "cell_type": "code",
   "execution_count": 10,
   "metadata": {},
   "outputs": [
    {
     "data": {
      "application/vnd.jupyter.widget-view+json": {
       "model_id": "bbb4985bc2e348b799c1fe8e9379522d",
       "version_major": 2,
       "version_minor": 0
      },
      "text/plain": [
       "VBox(children=(Figure(animation=33.0, camera=PerspectiveCamera(fov=46.0, position=(-0.0, -1.7320508075688774, …"
      ]
     },
     "metadata": {},
     "output_type": "display_data"
    }
   ],
   "source": [
    "# Give graphics renderer the DisplayList to animate.\n",
    "graphics.animate(dl, transFunc, duration=5.0, frame_rate=30, limits=limits)"
   ]
  },
  {
   "cell_type": "code",
   "execution_count": null,
   "metadata": {},
   "outputs": [],
   "source": []
  }
 ],
 "metadata": {
  "kernelspec": {
   "display_name": "Python 3",
   "language": "python",
   "name": "python3"
  },
  "language_info": {
   "codemirror_mode": {
    "name": "ipython",
    "version": 3
   },
   "file_extension": ".py",
   "mimetype": "text/x-python",
   "name": "python",
   "nbconvert_exporter": "python",
   "pygments_lexer": "ipython3",
   "version": "3.5.2"
  }
 },
 "nbformat": 4,
 "nbformat_minor": 2
}
